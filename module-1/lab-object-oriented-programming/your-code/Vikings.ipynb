{
 "cells": [
  {
   "cell_type": "code",
   "execution_count": 1,
   "id": "1f1bbf34-3648-4b45-b40a-187464fe65c6",
   "metadata": {},
   "outputs": [],
   "source": [
    "# Soldier\n",
    "class Soldier:\n",
    "    def __init__(self, health, strength):\n",
    "        super()._init_(health,strength)\n",
    "        self.health()\n",
    "        self.strenght()\n",
    "        def attack(self):\n",
    "            return self.strength()\n",
    "        def receiveDamage(self,damage):\n",
    "            self.health-= damage\n",
    "# Viking\n",
    "class Viking(Soldier):\n",
    "    def __init__(self,name,health,strength):\n",
    "        super().__init__(health,strength)\n",
    "        self.name = name\n",
    "    def receiveDamage(self,damage):\n",
    "        self.health -= damage\n",
    "        if self.health>0:\n",
    "            return f'{self.name} has received{damage} points od damage'\n",
    "        else :\n",
    "            return f'{self.name} has died in act of combat'\n",
    "    def battleCry(self):\n",
    "        return 'Odin owns you all!!!'\n",
    "\n",
    "# Saxon\n",
    "class Saxon(Soldier):\n",
    "    def __init__(self,health,strength):\n",
    "        super().__init__(health,strength)\n",
    "    def receiveDamage(self,damage):\n",
    "        self.health -= damage\n",
    "        if self.health>0:\n",
    "            return f'A Saxon has received{damage} points od damage'\n",
    "        else :\n",
    "            return f'A Saxon has died in act of combat'"
   ]
  }
 ],
 "metadata": {
  "kernelspec": {
   "display_name": "Python 3 (ipykernel)",
   "language": "python",
   "name": "python3"
  },
  "language_info": {
   "codemirror_mode": {
    "name": "ipython",
    "version": 3
   },
   "file_extension": ".py",
   "mimetype": "text/x-python",
   "name": "python",
   "nbconvert_exporter": "python",
   "pygments_lexer": "ipython3",
   "version": "3.9.7"
  }
 },
 "nbformat": 4,
 "nbformat_minor": 5
}

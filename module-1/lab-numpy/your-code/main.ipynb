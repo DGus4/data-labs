{
 "cells": [
  {
   "cell_type": "code",
   "execution_count": 88,
   "id": "1fc1c0ec-5156-4ba0-9feb-e997939b1b77",
   "metadata": {
    "collapsed": true,
    "jupyter": {
     "outputs_hidden": true
    }
   },
   "outputs": [],
   "source": [
    "#1. Import thne NUMPY package under the name np.\n",
    "import numpy as np"
   ]
  },
  {
   "cell_type": "code",
   "execution_count": 89,
   "id": "6e118191-f036-43f2-b229-4ad9976b346c",
   "metadata": {
    "collapsed": true,
    "jupyter": {
     "outputs_hidden": true
    },
    "tags": []
   },
   "outputs": [
    {
     "name": "stdout",
     "output_type": "stream",
     "text": [
      "1.20.3\n",
      "blas_mkl_info:\n",
      "    libraries = ['mkl_rt']\n",
      "    library_dirs = ['C:/Users/Jarvis/anaconda3\\\\Library\\\\lib']\n",
      "    define_macros = [('SCIPY_MKL_H', None), ('HAVE_CBLAS', None)]\n",
      "    include_dirs = ['C:/Users/Jarvis/anaconda3\\\\Library\\\\include']\n",
      "blas_opt_info:\n",
      "    libraries = ['mkl_rt']\n",
      "    library_dirs = ['C:/Users/Jarvis/anaconda3\\\\Library\\\\lib']\n",
      "    define_macros = [('SCIPY_MKL_H', None), ('HAVE_CBLAS', None)]\n",
      "    include_dirs = ['C:/Users/Jarvis/anaconda3\\\\Library\\\\include']\n",
      "lapack_mkl_info:\n",
      "    libraries = ['mkl_rt']\n",
      "    library_dirs = ['C:/Users/Jarvis/anaconda3\\\\Library\\\\lib']\n",
      "    define_macros = [('SCIPY_MKL_H', None), ('HAVE_CBLAS', None)]\n",
      "    include_dirs = ['C:/Users/Jarvis/anaconda3\\\\Library\\\\include']\n",
      "lapack_opt_info:\n",
      "    libraries = ['mkl_rt']\n",
      "    library_dirs = ['C:/Users/Jarvis/anaconda3\\\\Library\\\\lib']\n",
      "    define_macros = [('SCIPY_MKL_H', None), ('HAVE_CBLAS', None)]\n",
      "    include_dirs = ['C:/Users/Jarvis/anaconda3\\\\Library\\\\include']\n",
      "None\n"
     ]
    }
   ],
   "source": [
    "#2. Print the NUMPY version and the configuration.\n",
    "print(np.__version__)\n",
    "print(np.show_config())"
   ]
  },
  {
   "cell_type": "code",
   "execution_count": 90,
   "id": "639c1c37-6468-4670-abc8-0002447620de",
   "metadata": {
    "collapsed": true,
    "jupyter": {
     "outputs_hidden": true
    },
    "tags": []
   },
   "outputs": [
    {
     "name": "stdout",
     "output_type": "stream",
     "text": [
      "[[[0.5815257  0.71025028 0.90575632 0.30407564 0.0814043 ]\n",
      "  [0.40137234 0.76248579 0.62614459 0.83419673 0.53427675]\n",
      "  [0.11917264 0.4258502  0.61953145 0.22392862 0.53727724]]\n",
      "\n",
      " [[0.26903105 0.53343982 0.04470016 0.39098179 0.73040081]\n",
      "  [0.49722054 0.99400287 0.05501631 0.8108508  0.18191622]\n",
      "  [0.873711   0.70290491 0.35948968 0.64765519 0.09465523]]]\n"
     ]
    }
   ],
   "source": [
    "#3. Generate a 2x3x5 3-dimensional array with random values. Assign the array to variable \"a\"\n",
    "# Challenge: there are at least three easy ways that use numpy to generate random arrays. How many ways can you find?\n",
    "#4. Print a.\n",
    "a = np.random.rand(2,3,5)\n",
    "print(a)"
   ]
  },
  {
   "cell_type": "code",
   "execution_count": 91,
   "id": "a2663945-6428-40b9-8c11-3f575936f5ea",
   "metadata": {
    "collapsed": true,
    "jupyter": {
     "outputs_hidden": true
    },
    "tags": []
   },
   "outputs": [
    {
     "name": "stdout",
     "output_type": "stream",
     "text": [
      "[[[1. 1.]\n",
      "  [1. 1.]\n",
      "  [1. 1.]]\n",
      "\n",
      " [[1. 1.]\n",
      "  [1. 1.]\n",
      "  [1. 1.]]\n",
      "\n",
      " [[1. 1.]\n",
      "  [1. 1.]\n",
      "  [1. 1.]]\n",
      "\n",
      " [[1. 1.]\n",
      "  [1. 1.]\n",
      "  [1. 1.]]\n",
      "\n",
      " [[1. 1.]\n",
      "  [1. 1.]\n",
      "  [1. 1.]]]\n"
     ]
    }
   ],
   "source": [
    "#5. Create a 5x3x2 3-dimensional array with all values equaling 1.\n",
    "#Assign the array to variable \"b\"\n",
    "#6. Print b.\n",
    "\n",
    "b = np.ones((5,3,2))\n",
    "print(b)"
   ]
  },
  {
   "cell_type": "code",
   "execution_count": 92,
   "id": "4c5e3766-0832-4247-91dd-8c1539da8d96",
   "metadata": {
    "collapsed": true,
    "jupyter": {
     "outputs_hidden": true
    },
    "tags": []
   },
   "outputs": [
    {
     "name": "stdout",
     "output_type": "stream",
     "text": [
      "30\n",
      "30\n"
     ]
    }
   ],
   "source": [
    "#7. Do a and b have the same size? How do you prove that in Python code?\n",
    "print(a.size)\n",
    "print(b.size)"
   ]
  },
  {
   "cell_type": "code",
   "execution_count": 93,
   "id": "b1e48ba0-031c-428f-9d01-e142155f3b18",
   "metadata": {
    "collapsed": true,
    "jupyter": {
     "outputs_hidden": true
    }
   },
   "outputs": [
    {
     "ename": "ValueError",
     "evalue": "operands could not be broadcast together with shapes (2,3,5) (5,3,2) ",
     "output_type": "error",
     "traceback": [
      "\u001b[1;31m---------------------------------------------------------------------------\u001b[0m",
      "\u001b[1;31mValueError\u001b[0m                                Traceback (most recent call last)",
      "\u001b[1;32m~\\AppData\\Local\\Temp/ipykernel_13180/2989146659.py\u001b[0m in \u001b[0;36m<module>\u001b[1;34m\u001b[0m\n\u001b[0;32m      1\u001b[0m \u001b[1;31m#8. Are you able to add a and b? Why or why not?\u001b[0m\u001b[1;33m\u001b[0m\u001b[1;33m\u001b[0m\u001b[0m\n\u001b[0;32m      2\u001b[0m \u001b[1;31m# No because they don't have the same shape\u001b[0m\u001b[1;33m\u001b[0m\u001b[1;33m\u001b[0m\u001b[0m\n\u001b[1;32m----> 3\u001b[1;33m \u001b[0mnp\u001b[0m\u001b[1;33m.\u001b[0m\u001b[0madd\u001b[0m\u001b[1;33m(\u001b[0m\u001b[0ma\u001b[0m\u001b[1;33m,\u001b[0m\u001b[0mb\u001b[0m\u001b[1;33m)\u001b[0m\u001b[1;33m\u001b[0m\u001b[1;33m\u001b[0m\u001b[0m\n\u001b[0m",
      "\u001b[1;31mValueError\u001b[0m: operands could not be broadcast together with shapes (2,3,5) (5,3,2) "
     ]
    }
   ],
   "source": [
    "#8. Are you able to add a and b? Why or why not?\n",
    "# No because they don't have the same shape\n",
    "np.add(a,b)"
   ]
  },
  {
   "cell_type": "code",
   "execution_count": 94,
   "id": "b47c5a11-2349-4300-813a-ef799846c235",
   "metadata": {
    "collapsed": true,
    "jupyter": {
     "outputs_hidden": true
    }
   },
   "outputs": [
    {
     "data": {
      "text/plain": [
       "(2, 3, 5)"
      ]
     },
     "execution_count": 94,
     "metadata": {},
     "output_type": "execute_result"
    }
   ],
   "source": [
    "#9. Transpose b so that it has the same structure of a (i.e. become a 2x3x5 array). Assign the transposed array to varialbe \"c\".\n",
    "c = np.transpose(b, (2,1,0))\n",
    "c.shape"
   ]
  },
  {
   "cell_type": "code",
   "execution_count": 95,
   "id": "e1296ab6-da01-444a-8590-951f881751aa",
   "metadata": {
    "collapsed": true,
    "jupyter": {
     "outputs_hidden": true
    },
    "tags": []
   },
   "outputs": [
    {
     "name": "stdout",
     "output_type": "stream",
     "text": [
      "[[[1.5815257  1.71025028 1.90575632 1.30407564 1.0814043 ]\n",
      "  [1.40137234 1.76248579 1.62614459 1.83419673 1.53427675]\n",
      "  [1.11917264 1.4258502  1.61953145 1.22392862 1.53727724]]\n",
      "\n",
      " [[1.26903105 1.53343982 1.04470016 1.39098179 1.73040081]\n",
      "  [1.49722054 1.99400287 1.05501631 1.8108508  1.18191622]\n",
      "  [1.873711   1.70290491 1.35948968 1.64765519 1.09465523]]]\n"
     ]
    }
   ],
   "source": [
    "#10. Try to add a and c. Now it should work. Assign the sum to varialbe \"d\". But why does it work now?\n",
    "#Because they both have the same shape.\n",
    "d = np.add(a,c)\n",
    "print(d)"
   ]
  },
  {
   "cell_type": "code",
   "execution_count": 364,
   "id": "99cc6e0b-1ae6-4caa-9f5e-91bf512ab020",
   "metadata": {
    "tags": []
   },
   "outputs": [
    {
     "name": "stdout",
     "output_type": "stream",
     "text": [
      "[[[0.5815257  0.71025028 0.90575632 0.30407564 0.0814043 ]\n",
      "  [0.40137234 0.76248579 0.62614459 0.83419673 0.53427675]\n",
      "  [0.11917264 0.4258502  0.61953145 0.22392862 0.53727724]]\n",
      "\n",
      " [[0.26903105 0.53343982 0.04470016 0.39098179 0.73040081]\n",
      "  [0.49722054 0.99400287 0.05501631 0.8108508  0.18191622]\n",
      "  [0.873711   0.70290491 0.35948968 0.64765519 0.09465523]]]\n",
      "[[[1.5815257  1.71025028 1.90575632 1.30407564 1.0814043 ]\n",
      "  [1.40137234 1.76248579 1.62614459 1.83419673 1.53427675]\n",
      "  [1.11917264 1.4258502  1.61953145 1.22392862 1.53727724]]\n",
      "\n",
      " [[1.26903105 1.53343982 1.04470016 1.39098179 1.73040081]\n",
      "  [1.49722054 1.99400287 1.05501631 1.8108508  1.18191622]\n",
      "  [1.873711   1.70290491 1.35948968 1.64765519 1.09465523]]]\n"
     ]
    }
   ],
   "source": [
    "#11. Print a and d. Notice the difference and relation of the two array in terms of the values? Explain.\n",
    "#The difference between all the values of a and is 1, because the c array had only values of 1, and we added it to d.\n",
    "print(a)\n",
    "print(d)"
   ]
  },
  {
   "cell_type": "code",
   "execution_count": 365,
   "id": "cd6b467d-6a5d-4c57-834e-a68032818282",
   "metadata": {
    "tags": []
   },
   "outputs": [
    {
     "name": "stdout",
     "output_type": "stream",
     "text": [
      "[[[0.5815257  0.71025028 0.90575632 0.30407564 0.0814043 ]\n",
      "  [0.40137234 0.76248579 0.62614459 0.83419673 0.53427675]\n",
      "  [0.11917264 0.4258502  0.61953145 0.22392862 0.53727724]]\n",
      "\n",
      " [[0.26903105 0.53343982 0.04470016 0.39098179 0.73040081]\n",
      "  [0.49722054 0.99400287 0.05501631 0.8108508  0.18191622]\n",
      "  [0.873711   0.70290491 0.35948968 0.64765519 0.09465523]]]\n"
     ]
    }
   ],
   "source": [
    "#12. Multiply a and c. Assign the result to e.\n",
    "e = np.multiply(a,c)\n",
    "print(e)"
   ]
  },
  {
   "cell_type": "code",
   "execution_count": 98,
   "id": "db799ee8-29a7-4d71-a0a3-792e8d380dad",
   "metadata": {
    "collapsed": true,
    "jupyter": {
     "outputs_hidden": true
    },
    "tags": []
   },
   "outputs": [],
   "source": [
    "#13. Does e equal to a? Why or why not?\n",
    "# Yes because we multiplied all to values by one"
   ]
  },
  {
   "cell_type": "code",
   "execution_count": 144,
   "id": "e3b39259-790e-4606-92f2-36c2a2e64de7",
   "metadata": {
    "tags": []
   },
   "outputs": [
    {
     "name": "stdout",
     "output_type": "stream",
     "text": [
      "1.9940028664231297\n",
      "1.04470015516224\n",
      "1.495107498560474\n"
     ]
    }
   ],
   "source": [
    "#14. Identify the max, min, and mean values in d. Assign those values to variables \"d_max\", \"d_min\", and \"d_mean\"\n",
    "d_max = np.max(d)\n",
    "d_min =np.min(d)\n",
    "d_mean = np.mean(d)\n",
    "print(d_max)\n",
    "print(d_min)\n",
    "print(d_mean)"
   ]
  },
  {
   "cell_type": "code",
   "execution_count": 366,
   "id": "4b3b3102-9a17-4ad2-9be1-4b579a521c5b",
   "metadata": {
    "collapsed": true,
    "jupyter": {
     "outputs_hidden": true
    },
    "tags": []
   },
   "outputs": [
    {
     "data": {
      "text/plain": [
       "array([[[0.5815257 , 0.71025028, 0.90575632, 0.30407564, 0.0814043 ],\n",
       "        [0.40137234, 0.76248579, 0.62614459, 0.83419673, 0.53427675],\n",
       "        [0.11917264, 0.4258502 , 0.61953145, 0.22392862, 0.53727724]],\n",
       "\n",
       "       [[0.26903105, 0.53343982, 0.04470016, 0.39098179, 0.73040081],\n",
       "        [0.49722054, 0.99400287, 0.05501631, 0.8108508 , 0.18191622],\n",
       "        [0.873711  , 0.70290491, 0.35948968, 0.64765519, 0.09465523]]])"
      ]
     },
     "execution_count": 366,
     "metadata": {},
     "output_type": "execute_result"
    }
   ],
   "source": [
    "#15. Now we want to label the values in d. First create an empty array \"f\" with the same shape (i.e. 2x3x5) as d using `np.empty`.\n",
    "f = np.empty_like(d)\n",
    "f.shape\n",
    "f"
   ]
  },
  {
   "cell_type": "code",
   "execution_count": 367,
   "id": "2a8498ce-0598-4172-9c7f-66a3bc3a6aa2",
   "metadata": {
    "collapsed": true,
    "jupyter": {
     "outputs_hidden": true
    },
    "tags": []
   },
   "outputs": [
    {
     "data": {
      "text/plain": [
       "array([[[ 75.,  75.,  75.,  25.,  25.],\n",
       "        [ 25.,  75.,  75.,  75.,  75.],\n",
       "        [ 25.,  25.,  75.,  25.,  75.]],\n",
       "\n",
       "       [[ 25.,  75.,   0.,  25.,  75.],\n",
       "        [ 75., 100.,  25.,  75.,  25.],\n",
       "        [ 75.,  75.,  25.,  75.,  25.]]])"
      ]
     },
     "execution_count": 367,
     "metadata": {},
     "output_type": "execute_result"
    }
   ],
   "source": [
    "#16. Populate the values in f. For each value in d, if it's larger than d_min but smaller than d_mean,\n",
    "#assign 25 to the corresponding value in f.\n",
    "#If a value in d is larger than d_mean but smaller than d_max, assign 75 to the corresponding value in f.\n",
    "#If a value equals to d_mean, assign 50 to the corresponding value in f.\n",
    "#Assign 0 to the corresponding value(s) in f for d_min in d.\n",
    "#Assign 100 to the corresponding value(s) in f for d_max in d.\n",
    "#In the end, f should have only the following values: 0, 25, 50, 75, and 100.\n",
    "#Note: you don't have to use Numpy in this question.\n",
    "f1 = np.where(((d>d_min)&(d<d_mean)),25,d)\n",
    "f2 = np.where(((f1>d_mean)&(f1<d_max)),75,f1)\n",
    "f3 = np.where(f2==d_mean,50,f2)\n",
    "f4 = np.where(f3==d_max,100,f3)\n",
    "f = np.where(f4==d_min,0,f4)\n",
    "f"
   ]
  },
  {
   "cell_type": "code",
   "execution_count": 368,
   "id": "147e0ae0-5f60-4e52-ac11-270d1cdc26c3",
   "metadata": {
    "collapsed": true,
    "jupyter": {
     "outputs_hidden": true
    },
    "tags": []
   },
   "outputs": [
    {
     "data": {
      "text/plain": [
       "array([[[ 75.,  75.,  75.,  25.,  25.],\n",
       "        [ 25.,  75.,  75.,  75.,  75.],\n",
       "        [ 25.,  25.,  75.,  25.,  75.]],\n",
       "\n",
       "       [[ 25.,  75.,   0.,  25.,  75.],\n",
       "        [ 75., 100.,  25.,  75.,  25.],\n",
       "        [ 75.,  75.,  25.,  75.,  25.]]])"
      ]
     },
     "execution_count": 368,
     "metadata": {},
     "output_type": "execute_result"
    }
   ],
   "source": [
    "#17. Print d and f. Do you have your expected f?\n",
    "f\n",
    "#Yes"
   ]
  },
  {
   "cell_type": "code",
   "execution_count": 383,
   "id": "17c3c945-ee4e-47a6-8135-d6806aabaee9",
   "metadata": {
    "collapsed": true,
    "jupyter": {
     "outputs_hidden": true
    },
    "tags": []
   },
   "outputs": [
    {
     "data": {
      "text/plain": [
       "array([[[ 75.,  75.,  75.,  25.,  25.],\n",
       "        [ 25.,  75.,  75.,  75.,  75.],\n",
       "        [ 25.,  25.,  75.,  25.,  75.]],\n",
       "\n",
       "       [[ 25.,  75.,   0.,  25.,  75.],\n",
       "        [ 75., 100.,  25.,  75.,  25.],\n",
       "        [ 75.,  75.,  25.,  75.,  25.]]])"
      ]
     },
     "execution_count": 383,
     "metadata": {},
     "output_type": "execute_result"
    }
   ],
   "source": [
    "#18. Bonus question: instead of using numbers (i.e. 0, 25, 50, 75, and 100), how to use string values \n",
    "#(\"A\", \"B\", \"C\", \"D\", and \"E\") to label the array elements? You are expecting the result to be:\n",
    "#array([[[ 'D',  'D',  'D',  'B',  'D'],\n",
    "#        [ 'D',  'D',  'B',  'B',  'B'],\n",
    "#       [ 'D',  'B',  'D',  'D',  'D']],\n",
    "#\n",
    "#      [[ 'B',  'B',  'B',  'B',  'E'],\n",
    "#        [ 'D',  'D',  'D',  'D',  'D'],\n",
    "#        [ 'B',  'D',   'A',  'D', 'D']]])\n",
    "#Again, you don't need Numpy in this question.\n",
    "k = np.empty_like(d)\n",
    "k"
   ]
  },
  {
   "cell_type": "code",
   "execution_count": 396,
   "id": "23186add-b3d6-4115-8a0f-5c5ac4abba18",
   "metadata": {
    "collapsed": true,
    "jupyter": {
     "outputs_hidden": true
    },
    "tags": []
   },
   "outputs": [
    {
     "data": {
      "text/plain": [
       "array([[['D', 'D', 'D', 'B', 'B'],\n",
       "        ['B', 'D', 'D', 'D', 'D'],\n",
       "        ['B', 'B', 'D', 'B', 'D']],\n",
       "\n",
       "       [['B', 'D', 'A', 'B', 'D'],\n",
       "        ['D', 'E', 'B', 'D', 'B'],\n",
       "        ['D', 'D', 'B', 'D', 'B']]], dtype='<U32')"
      ]
     },
     "execution_count": 396,
     "metadata": {},
     "output_type": "execute_result"
    }
   ],
   "source": [
    "k1 = np.where(k=='25','B',k)\n",
    "k2 = np.where(k1=='75','D',k1)\n",
    "k3 = np.where(k2=='50','C',k2)\n",
    "k4 = np.where(k3=='100','E',k3)\n",
    "k = np.where(k4=='0','A',k4)\n",
    "k"
   ]
  }
 ],
 "metadata": {
  "kernelspec": {
   "display_name": "Python 3 (ipykernel)",
   "language": "python",
   "name": "python3"
  },
  "language_info": {
   "codemirror_mode": {
    "name": "ipython",
    "version": 3
   },
   "file_extension": ".py",
   "mimetype": "text/x-python",
   "name": "python",
   "nbconvert_exporter": "python",
   "pygments_lexer": "ipython3",
   "version": "3.9.7"
  }
 },
 "nbformat": 4,
 "nbformat_minor": 5
}

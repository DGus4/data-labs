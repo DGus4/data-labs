{
 "cells": [
  {
   "cell_type": "code",
   "execution_count": 123,
   "id": "d10d4c67-2b35-49ca-a334-ce89a4c1274f",
   "metadata": {},
   "outputs": [],
   "source": [
    "from bs4 import BeautifulSoup\n",
    "from pprint import pprint\n",
    "from lxml import html\n",
    "from lxml.html import fromstring\n",
    "import urllib.request\n",
    "from urllib.request import urlopen\n",
    "import random\n",
    "import re\n",
    "import scrapy\n",
    "import requests\n",
    "import bleach"
   ]
  },
  {
   "cell_type": "code",
   "execution_count": 124,
   "id": "afa716bc-2301-4ecb-ba82-ee81ae9fac66",
   "metadata": {},
   "outputs": [],
   "source": [
    "url = 'https://github.com/deanmcgregor/ynab-python'"
   ]
  },
  {
   "cell_type": "code",
   "execution_count": 125,
   "id": "1d2c191d-babb-47bd-93fe-4c1cf90d7fac",
   "metadata": {},
   "outputs": [],
   "source": [
    "request = requests.get(url).content\n",
    "soup = BeautifulSoup(request,\"html.parser\")\n",
    "mysoup = soup.html"
   ]
  },
  {
   "cell_type": "code",
   "execution_count": 126,
   "id": "6ded1838-f754-4542-b184-f1d1b00befb8",
   "metadata": {},
   "outputs": [
    {
     "data": {
      "text/plain": [
       "['https://github.com//deanmcgregor/ynab-python/tree/master/.swagger-codegen',\n",
       " 'https://github.com//deanmcgregor/ynab-python/tree/master/docs',\n",
       " 'https://github.com//deanmcgregor/ynab-python/tree/master/test',\n",
       " 'https://github.com//deanmcgregor/ynab-python/tree/master/ynab',\n",
       " 'https://github.com//deanmcgregor/ynab-python/blob/master/.gitignore',\n",
       " 'https://github.com//deanmcgregor/ynab-python/blob/master/.swagger-codegen-ignore',\n",
       " 'https://github.com//deanmcgregor/ynab-python/blob/master/.travis.yml',\n",
       " 'https://github.com//deanmcgregor/ynab-python/blob/master/README.md',\n",
       " 'https://github.com//deanmcgregor/ynab-python/blob/master/git_push.sh',\n",
       " 'https://github.com//deanmcgregor/ynab-python/blob/master/requirements.txt',\n",
       " 'https://github.com//deanmcgregor/ynab-python/blob/master/setup.py',\n",
       " 'https://github.com//deanmcgregor/ynab-python/blob/master/test-requirements.txt',\n",
       " 'https://github.com//deanmcgregor/ynab-python/blob/master/tox.ini']"
      ]
     },
     "execution_count": 126,
     "metadata": {},
     "output_type": "execute_result"
    }
   ],
   "source": [
    "links= []\n",
    "for i in mysoup.find_all('a', class_ = \"js-navigation-open Link--primary\",href = True):\n",
    "    links.append(\"https://github.com/\"+i['href'])\n",
    "links"
   ]
  }
 ],
 "metadata": {
  "kernelspec": {
   "display_name": "Python 3 (ipykernel)",
   "language": "python",
   "name": "python3"
  },
  "language_info": {
   "codemirror_mode": {
    "name": "ipython",
    "version": 3
   },
   "file_extension": ".py",
   "mimetype": "text/x-python",
   "name": "python",
   "nbconvert_exporter": "python",
   "pygments_lexer": "ipython3",
   "version": "3.9.7"
  }
 },
 "nbformat": 4,
 "nbformat_minor": 5
}

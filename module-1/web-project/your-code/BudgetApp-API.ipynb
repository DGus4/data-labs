{
 "cells": [
  {
   "cell_type": "code",
   "execution_count": 10,
   "id": "d10d4c67-2b35-49ca-a334-ce89a4c1274f",
   "metadata": {
    "tags": []
   },
   "outputs": [],
   "source": [
    "import json\n",
    "import requests\n",
    "import pandas as pd\n",
    "from pandas.io.json import json_normalize\n",
    "import functools as ft"
   ]
  },
  {
   "cell_type": "code",
   "execution_count": 11,
   "id": "afa716bc-2301-4ecb-ba82-ee81ae9fac66",
   "metadata": {
    "tags": []
   },
   "outputs": [],
   "source": [
    "url = 'https://app.youneedabudget.com/46c718b9-f242-4d73-8541-440fa0c82a31/budget/202205'"
   ]
  },
  {
   "cell_type": "code",
   "execution_count": 12,
   "id": "1d2c191d-babb-47bd-93fe-4c1cf90d7fac",
   "metadata": {
    "tags": []
   },
   "outputs": [
    {
     "ename": "NameError",
     "evalue": "name 'BeautifulSoup' is not defined",
     "output_type": "error",
     "traceback": [
      "\u001b[1;31m---------------------------------------------------------------------------\u001b[0m",
      "\u001b[1;31mNameError\u001b[0m                                 Traceback (most recent call last)",
      "\u001b[1;32m~\\AppData\\Local\\Temp/ipykernel_5196/1764394033.py\u001b[0m in \u001b[0;36m<module>\u001b[1;34m\u001b[0m\n\u001b[0;32m      2\u001b[0m \u001b[0mresponse\u001b[0m \u001b[1;33m=\u001b[0m \u001b[0mrequest\u001b[0m\u001b[1;33m.\u001b[0m\u001b[0mjson\u001b[0m\u001b[1;33m\u001b[0m\u001b[1;33m\u001b[0m\u001b[0m\n\u001b[0;32m      3\u001b[0m \u001b[0mresponse\u001b[0m\u001b[1;33m\u001b[0m\u001b[1;33m\u001b[0m\u001b[0m\n\u001b[1;32m----> 4\u001b[1;33m \u001b[0msoup\u001b[0m \u001b[1;33m=\u001b[0m \u001b[0mBeautifulSoup\u001b[0m\u001b[1;33m(\u001b[0m\u001b[0mrequest\u001b[0m\u001b[1;33m.\u001b[0m\u001b[0mcontent\u001b[0m\u001b[1;33m,\u001b[0m\u001b[1;34m\"html.parser\"\u001b[0m\u001b[1;33m)\u001b[0m\u001b[1;33m\u001b[0m\u001b[1;33m\u001b[0m\u001b[0m\n\u001b[0m\u001b[0;32m      5\u001b[0m \u001b[0mmysoup\u001b[0m \u001b[1;33m=\u001b[0m \u001b[0msoup\u001b[0m\u001b[1;33m.\u001b[0m\u001b[0mhtml\u001b[0m\u001b[1;33m\u001b[0m\u001b[1;33m\u001b[0m\u001b[0m\n",
      "\u001b[1;31mNameError\u001b[0m: name 'BeautifulSoup' is not defined"
     ]
    }
   ],
   "source": [
    "request = requests.get(url)\n",
    "response = request.json\n",
    "response\n",
    "soup = BeautifulSoup(request.content,\"html.parser\")\n",
    "mysoup = soup.html"
   ]
  },
  {
   "cell_type": "code",
   "execution_count": 7,
   "id": "6ac47fc6-b9b0-4f88-b742-241c5ecc1a4c",
   "metadata": {
    "tags": []
   },
   "outputs": [
    {
     "name": "stdout",
     "output_type": "stream",
     "text": [
      "Exception when calling AccountsApi->get_account_by_id: (403)\n",
      "Reason: Forbidden\n",
      "HTTP response headers: HTTPHeaderDict({'Server': 'Cowboy', 'Date': 'Sat, 17 Sep 2022 18:36:14 GMT', 'Connection': 'keep-alive', 'Content-Type': 'application/json; charset=utf-8', 'Vary': 'Accept-Encoding, Origin', 'Cache-Control': 'no-cache', 'X-Request-Id': 'f5629483-e7d9-40ca-b518-eff1fd15125a', 'X-Runtime': '0.034453', 'Strict-Transport-Security': 'max-age=63072000; includeSubDomains', 'Transfer-Encoding': 'chunked', 'Via': '1.1 vegur'})\n",
      "HTTP response body: {\"error\":{\"id\":\"403.2\",\"name\":\"trial_expired\",\"detail\":\"The trial for this account has expired.\"}}\n",
      "\n",
      "\n"
     ]
    }
   ],
   "source": [
    "from __future__ import print_function\n",
    "import time\n",
    "import ynab\n",
    "from ynab.rest import ApiException\n",
    "from pprint import pprint\n",
    "\n",
    "configuration = ynab.Configuration()\n",
    "\n",
    "configuration.api_key['Authorization'] = '64Edz_HUqtPeGZpqSoQBDdwzoloAxY_wkHr-xJwjwo8'\n",
    "\n",
    "configuration.api_key_prefix['Authorization'] = 'Bearer'\n",
    "\n",
    "api_instance = ynab.AccountsApi()\n",
    "api_categories = ynab.CategoriesApi(ynab.ApiClient(configuration))\n",
    "\n",
    "budget_id = '46c718b9-f242-4d73-8541-440fa0c82a31'\n",
    "account_id = '6db08996-92d2-446f-8902-e377e376f4d0'\n",
    "account_id2 = \"c74cee68-4f6f-4ed9-b520-367a9dbf33fe\"\n",
    "account_id3 = \"538ffe77-426a-4d3d-bbde-8295013ea034\"\n",
    "\n",
    "try:\n",
    "    account_data = api_instance.get_account_by_id(budget_id,account_id)\n",
    "    account_data2 = api_instance.get_account_by_id(budget_id,account_id2)\n",
    "    account_data3 = api_instance.get_account_by_id(budget_id,account_id3)\n",
    "    account_categories = api_categories.get_categories(budget_id)\n",
    "    \n",
    "except ApiException as Exc:\n",
    "    print(\"Exception when calling AccountsApi->get_account_by_id: %s\\n\" % Exc)"
   ]
  },
  {
   "cell_type": "code",
   "execution_count": 2,
   "id": "a08343b2-e3ae-41cb-bba5-25d5b32d6e7e",
   "metadata": {},
   "outputs": [
    {
     "ename": "NameError",
     "evalue": "name 'account_data' is not defined",
     "output_type": "error",
     "traceback": [
      "\u001b[1;31m---------------------------------------------------------------------------\u001b[0m",
      "\u001b[1;31mNameError\u001b[0m                                 Traceback (most recent call last)",
      "\u001b[1;32m~\\AppData\\Local\\Temp/ipykernel_5196/2358959798.py\u001b[0m in \u001b[0;36m<module>\u001b[1;34m\u001b[0m\n\u001b[1;32m----> 1\u001b[1;33m \u001b[0maccount_data\u001b[0m\u001b[1;33m\u001b[0m\u001b[1;33m\u001b[0m\u001b[0m\n\u001b[0m",
      "\u001b[1;31mNameError\u001b[0m: name 'account_data' is not defined"
     ]
    }
   ],
   "source": [
    "account_data"
   ]
  },
  {
   "cell_type": "code",
   "execution_count": 592,
   "id": "fab8c809-713b-46f9-bbcb-5dae71c1d0c9",
   "metadata": {
    "tags": []
   },
   "outputs": [
    {
     "data": {
      "text/html": [
       "<div>\n",
       "<style scoped>\n",
       "    .dataframe tbody tr th:only-of-type {\n",
       "        vertical-align: middle;\n",
       "    }\n",
       "\n",
       "    .dataframe tbody tr th {\n",
       "        vertical-align: top;\n",
       "    }\n",
       "\n",
       "    .dataframe thead th {\n",
       "        text-align: right;\n",
       "    }\n",
       "</style>\n",
       "<table border=\"1\" class=\"dataframe\">\n",
       "  <thead>\n",
       "    <tr style=\"text-align: right;\">\n",
       "      <th></th>\n",
       "      <th>data.account.type</th>\n",
       "      <th>data.account.uncleared_balance</th>\n",
       "      <th>data.account.balance</th>\n",
       "      <th>data.account.cleared_balance</th>\n",
       "    </tr>\n",
       "    <tr>\n",
       "      <th>data.account.name</th>\n",
       "      <th></th>\n",
       "      <th></th>\n",
       "      <th></th>\n",
       "      <th></th>\n",
       "    </tr>\n",
       "  </thead>\n",
       "  <tbody>\n",
       "    <tr>\n",
       "      <th>DtavoCash</th>\n",
       "      <td>savings</td>\n",
       "      <td>0.0</td>\n",
       "      <td>5000000.0</td>\n",
       "      <td>5000000.0</td>\n",
       "    </tr>\n",
       "  </tbody>\n",
       "</table>\n",
       "</div>"
      ],
      "text/plain": [
       "                  data.account.type  data.account.uncleared_balance  \\\n",
       "data.account.name                                                     \n",
       "DtavoCash                   savings                             0.0   \n",
       "\n",
       "                   data.account.balance  data.account.cleared_balance  \n",
       "data.account.name                                                      \n",
       "DtavoCash                     5000000.0                     5000000.0  "
      ]
     },
     "execution_count": 592,
     "metadata": {},
     "output_type": "execute_result"
    }
   ],
   "source": [
    "json_string = json.loads(json.dumps(account_data.to_dict()))\n",
    "df_data = pd.json_normalize(json_string)\n",
    "df_data_clean = df_data[{\"data.account.name\",\"data.account.type\"\n",
    "                         ,\"data.account.balance\",\"data.account.cleared_balance\",\"data.account.uncleared_balance\"}]\n",
    "df_data_clean.set_index(\"data.account.name\")"
   ]
  },
  {
   "cell_type": "code",
   "execution_count": 593,
   "id": "38ebfaac-020b-4732-b9f0-6d2675b5c133",
   "metadata": {
    "tags": []
   },
   "outputs": [
    {
     "data": {
      "text/html": [
       "<div>\n",
       "<style scoped>\n",
       "    .dataframe tbody tr th:only-of-type {\n",
       "        vertical-align: middle;\n",
       "    }\n",
       "\n",
       "    .dataframe tbody tr th {\n",
       "        vertical-align: top;\n",
       "    }\n",
       "\n",
       "    .dataframe thead th {\n",
       "        text-align: right;\n",
       "    }\n",
       "</style>\n",
       "<table border=\"1\" class=\"dataframe\">\n",
       "  <thead>\n",
       "    <tr style=\"text-align: right;\">\n",
       "      <th></th>\n",
       "      <th>data.account.type</th>\n",
       "      <th>data.account.uncleared_balance</th>\n",
       "      <th>data.account.balance</th>\n",
       "      <th>data.account.cleared_balance</th>\n",
       "    </tr>\n",
       "    <tr>\n",
       "      <th>data.account.name</th>\n",
       "      <th></th>\n",
       "      <th></th>\n",
       "      <th></th>\n",
       "      <th></th>\n",
       "    </tr>\n",
       "  </thead>\n",
       "  <tbody>\n",
       "    <tr>\n",
       "      <th>DtavoCreditCard</th>\n",
       "      <td>creditCard</td>\n",
       "      <td>0.0</td>\n",
       "      <td>-20000000.0</td>\n",
       "      <td>-20000000.0</td>\n",
       "    </tr>\n",
       "  </tbody>\n",
       "</table>\n",
       "</div>"
      ],
      "text/plain": [
       "                  data.account.type  data.account.uncleared_balance  \\\n",
       "data.account.name                                                     \n",
       "DtavoCreditCard          creditCard                             0.0   \n",
       "\n",
       "                   data.account.balance  data.account.cleared_balance  \n",
       "data.account.name                                                      \n",
       "DtavoCreditCard             -20000000.0                   -20000000.0  "
      ]
     },
     "execution_count": 593,
     "metadata": {},
     "output_type": "execute_result"
    }
   ],
   "source": [
    "json_string2 = json.loads(json.dumps(account_data2.to_dict()))\n",
    "df_data2 = pd.json_normalize(json_string2)\n",
    "df_data_clean2 = df_data2[{\"data.account.name\",\"data.account.type\"\n",
    "                         ,\"data.account.balance\",\"data.account.cleared_balance\",\"data.account.uncleared_balance\"}]\n",
    "df_data_clean2.set_index(\"data.account.name\")"
   ]
  },
  {
   "cell_type": "code",
   "execution_count": 594,
   "id": "250471d6-b95f-4a03-9256-f68286e172ad",
   "metadata": {
    "tags": []
   },
   "outputs": [
    {
     "data": {
      "text/html": [
       "<div>\n",
       "<style scoped>\n",
       "    .dataframe tbody tr th:only-of-type {\n",
       "        vertical-align: middle;\n",
       "    }\n",
       "\n",
       "    .dataframe tbody tr th {\n",
       "        vertical-align: top;\n",
       "    }\n",
       "\n",
       "    .dataframe thead th {\n",
       "        text-align: right;\n",
       "    }\n",
       "</style>\n",
       "<table border=\"1\" class=\"dataframe\">\n",
       "  <thead>\n",
       "    <tr style=\"text-align: right;\">\n",
       "      <th></th>\n",
       "      <th>data.account.type</th>\n",
       "      <th>data.account.uncleared_balance</th>\n",
       "      <th>data.account.balance</th>\n",
       "      <th>data.account.cleared_balance</th>\n",
       "    </tr>\n",
       "    <tr>\n",
       "      <th>data.account.name</th>\n",
       "      <th></th>\n",
       "      <th></th>\n",
       "      <th></th>\n",
       "      <th></th>\n",
       "    </tr>\n",
       "  </thead>\n",
       "  <tbody>\n",
       "    <tr>\n",
       "      <th>DtavoChecking</th>\n",
       "      <td>checking</td>\n",
       "      <td>0.0</td>\n",
       "      <td>30000000.0</td>\n",
       "      <td>30000000.0</td>\n",
       "    </tr>\n",
       "  </tbody>\n",
       "</table>\n",
       "</div>"
      ],
      "text/plain": [
       "                  data.account.type  data.account.uncleared_balance  \\\n",
       "data.account.name                                                     \n",
       "DtavoChecking              checking                             0.0   \n",
       "\n",
       "                   data.account.balance  data.account.cleared_balance  \n",
       "data.account.name                                                      \n",
       "DtavoChecking                30000000.0                    30000000.0  "
      ]
     },
     "execution_count": 594,
     "metadata": {},
     "output_type": "execute_result"
    }
   ],
   "source": [
    "json_string3 = json.loads(json.dumps(account_data3.to_dict()))\n",
    "df_data3 = pd.json_normalize(json_string3)\n",
    "df_data_clean3 = df_data3[{\"data.account.name\",\"data.account.type\"\n",
    "                         ,\"data.account.balance\",\"data.account.cleared_balance\",\"data.account.uncleared_balance\"}]\n",
    "df_data_clean3.set_index(\"data.account.name\")"
   ]
  },
  {
   "cell_type": "code",
   "execution_count": 595,
   "id": "ce4579ff-71c3-4913-ae37-d2b4eb6fb4f4",
   "metadata": {
    "tags": []
   },
   "outputs": [
    {
     "data": {
      "text/html": [
       "<div>\n",
       "<style scoped>\n",
       "    .dataframe tbody tr th:only-of-type {\n",
       "        vertical-align: middle;\n",
       "    }\n",
       "\n",
       "    .dataframe tbody tr th {\n",
       "        vertical-align: top;\n",
       "    }\n",
       "\n",
       "    .dataframe thead th {\n",
       "        text-align: right;\n",
       "    }\n",
       "</style>\n",
       "<table border=\"1\" class=\"dataframe\">\n",
       "  <thead>\n",
       "    <tr style=\"text-align: right;\">\n",
       "      <th></th>\n",
       "      <th>data.account.type</th>\n",
       "      <th>data.account.uncleared_balance</th>\n",
       "      <th>data.account.balance</th>\n",
       "      <th>data.account.cleared_balance</th>\n",
       "    </tr>\n",
       "    <tr>\n",
       "      <th>data.account.name</th>\n",
       "      <th></th>\n",
       "      <th></th>\n",
       "      <th></th>\n",
       "      <th></th>\n",
       "    </tr>\n",
       "  </thead>\n",
       "  <tbody>\n",
       "    <tr>\n",
       "      <th>DtavoCash</th>\n",
       "      <td>savings</td>\n",
       "      <td>0.0</td>\n",
       "      <td>5000.0</td>\n",
       "      <td>5000.0</td>\n",
       "    </tr>\n",
       "    <tr>\n",
       "      <th>DtavoCreditCard</th>\n",
       "      <td>creditCard</td>\n",
       "      <td>0.0</td>\n",
       "      <td>-20000.0</td>\n",
       "      <td>-20000.0</td>\n",
       "    </tr>\n",
       "    <tr>\n",
       "      <th>DtavoChecking</th>\n",
       "      <td>checking</td>\n",
       "      <td>0.0</td>\n",
       "      <td>30000.0</td>\n",
       "      <td>30000.0</td>\n",
       "    </tr>\n",
       "  </tbody>\n",
       "</table>\n",
       "</div>"
      ],
      "text/plain": [
       "                  data.account.type  data.account.uncleared_balance  \\\n",
       "data.account.name                                                     \n",
       "DtavoCash                   savings                             0.0   \n",
       "DtavoCreditCard          creditCard                             0.0   \n",
       "DtavoChecking              checking                             0.0   \n",
       "\n",
       "                   data.account.balance  data.account.cleared_balance  \n",
       "data.account.name                                                      \n",
       "DtavoCash                        5000.0                        5000.0  \n",
       "DtavoCreditCard                -20000.0                      -20000.0  \n",
       "DtavoChecking                   30000.0                       30000.0  "
      ]
     },
     "execution_count": 595,
     "metadata": {},
     "output_type": "execute_result"
    }
   ],
   "source": [
    "helper = df_data_clean.append(df_data_clean2, ignore_index=True)\n",
    "Final_df = helper.append(df_data_clean3, ignore_index=True)\n",
    "Final_df['data.account.uncleared_balance'] = 0.001 * Final_df['data.account.uncleared_balance']\n",
    "Final_df['data.account.balance'] = 0.001 * Final_df['data.account.balance']\n",
    "Final_df['data.account.cleared_balance'] = 0.001 * Final_df['data.account.cleared_balance']\n",
    "Final_df = Final_df.set_index(\"data.account.name\")\n",
    "Final_df"
   ]
  },
  {
   "cell_type": "code",
   "execution_count": 596,
   "id": "6182b81e-9710-4d12-9944-ad9f6e022ff1",
   "metadata": {
    "tags": []
   },
   "outputs": [],
   "source": [
    "Final_df= Final_df.append(Final_df.sum(numeric_only=True).rename('Total'))\n",
    "Final_df = Final_df.fillna('')"
   ]
  },
  {
   "cell_type": "code",
   "execution_count": 597,
   "id": "35fdb445-8de0-472e-a62c-2d11acec720f",
   "metadata": {
    "tags": []
   },
   "outputs": [
    {
     "data": {
      "text/html": [
       "<div>\n",
       "<style scoped>\n",
       "    .dataframe tbody tr th:only-of-type {\n",
       "        vertical-align: middle;\n",
       "    }\n",
       "\n",
       "    .dataframe tbody tr th {\n",
       "        vertical-align: top;\n",
       "    }\n",
       "\n",
       "    .dataframe thead th {\n",
       "        text-align: right;\n",
       "    }\n",
       "</style>\n",
       "<table border=\"1\" class=\"dataframe\">\n",
       "  <thead>\n",
       "    <tr style=\"text-align: right;\">\n",
       "      <th></th>\n",
       "      <th>name</th>\n",
       "      <th>balance</th>\n",
       "      <th>budgeted</th>\n",
       "    </tr>\n",
       "  </thead>\n",
       "  <tbody>\n",
       "    <tr>\n",
       "      <th>0</th>\n",
       "      <td>DtavoCreditCard</td>\n",
       "      <td>4000000.0</td>\n",
       "      <td>4000000.0</td>\n",
       "    </tr>\n",
       "  </tbody>\n",
       "</table>\n",
       "</div>"
      ],
      "text/plain": [
       "              name    balance   budgeted\n",
       "0  DtavoCreditCard  4000000.0  4000000.0"
      ]
     },
     "execution_count": 597,
     "metadata": {},
     "output_type": "execute_result"
    }
   ],
   "source": [
    "json_string = json.loads(json.dumps(account_categories.to_dict()))\n",
    "df_cat2 = pd.json_normalize(json_string[\"data\"][\"category_groups\"][1][\"categories\"])\n",
    "df_cat2 = df_cat2[{\"name\",\"budgeted\",\"balance\"}]\n",
    "df_cat2"
   ]
  },
  {
   "cell_type": "code",
   "execution_count": 598,
   "id": "8c6a6ea5-96a8-46d4-a921-df49f1458424",
   "metadata": {
    "tags": []
   },
   "outputs": [
    {
     "data": {
      "text/html": [
       "<div>\n",
       "<style scoped>\n",
       "    .dataframe tbody tr th:only-of-type {\n",
       "        vertical-align: middle;\n",
       "    }\n",
       "\n",
       "    .dataframe tbody tr th {\n",
       "        vertical-align: top;\n",
       "    }\n",
       "\n",
       "    .dataframe thead th {\n",
       "        text-align: right;\n",
       "    }\n",
       "</style>\n",
       "<table border=\"1\" class=\"dataframe\">\n",
       "  <thead>\n",
       "    <tr style=\"text-align: right;\">\n",
       "      <th></th>\n",
       "      <th>name</th>\n",
       "      <th>balance</th>\n",
       "      <th>budgeted</th>\n",
       "    </tr>\n",
       "  </thead>\n",
       "  <tbody>\n",
       "    <tr>\n",
       "      <th>0</th>\n",
       "      <td>Car</td>\n",
       "      <td>5000000.0</td>\n",
       "      <td>5000000.0</td>\n",
       "    </tr>\n",
       "    <tr>\n",
       "      <th>1</th>\n",
       "      <td>Rent/Mortgage</td>\n",
       "      <td>5300000.0</td>\n",
       "      <td>5300000.0</td>\n",
       "    </tr>\n",
       "    <tr>\n",
       "      <th>2</th>\n",
       "      <td>Electric</td>\n",
       "      <td>100000.0</td>\n",
       "      <td>100000.0</td>\n",
       "    </tr>\n",
       "    <tr>\n",
       "      <th>3</th>\n",
       "      <td>Water</td>\n",
       "      <td>150000.0</td>\n",
       "      <td>150000.0</td>\n",
       "    </tr>\n",
       "    <tr>\n",
       "      <th>4</th>\n",
       "      <td>Internet</td>\n",
       "      <td>450000.0</td>\n",
       "      <td>450000.0</td>\n",
       "    </tr>\n",
       "    <tr>\n",
       "      <th>5</th>\n",
       "      <td>Cellphone</td>\n",
       "      <td>500000.0</td>\n",
       "      <td>500000.0</td>\n",
       "    </tr>\n",
       "  </tbody>\n",
       "</table>\n",
       "</div>"
      ],
      "text/plain": [
       "            name    balance   budgeted\n",
       "0            Car  5000000.0  5000000.0\n",
       "1  Rent/Mortgage  5300000.0  5300000.0\n",
       "2       Electric   100000.0   100000.0\n",
       "3          Water   150000.0   150000.0\n",
       "4       Internet   450000.0   450000.0\n",
       "5      Cellphone   500000.0   500000.0"
      ]
     },
     "execution_count": 598,
     "metadata": {},
     "output_type": "execute_result"
    }
   ],
   "source": [
    "json_string = json.loads(json.dumps(account_categories.to_dict()))\n",
    "df_cat3 = pd.json_normalize(json_string[\"data\"][\"category_groups\"][2][\"categories\"])\n",
    "df_cat3 = df_cat3[{\"name\",\"budgeted\",\"balance\"}]\n",
    "df_cat3"
   ]
  },
  {
   "cell_type": "code",
   "execution_count": 599,
   "id": "1339187b-a3ac-4048-ab0d-783ef294a8ca",
   "metadata": {
    "tags": []
   },
   "outputs": [
    {
     "data": {
      "text/html": [
       "<div>\n",
       "<style scoped>\n",
       "    .dataframe tbody tr th:only-of-type {\n",
       "        vertical-align: middle;\n",
       "    }\n",
       "\n",
       "    .dataframe tbody tr th {\n",
       "        vertical-align: top;\n",
       "    }\n",
       "\n",
       "    .dataframe thead th {\n",
       "        text-align: right;\n",
       "    }\n",
       "</style>\n",
       "<table border=\"1\" class=\"dataframe\">\n",
       "  <thead>\n",
       "    <tr style=\"text-align: right;\">\n",
       "      <th></th>\n",
       "      <th>name</th>\n",
       "      <th>balance</th>\n",
       "      <th>budgeted</th>\n",
       "    </tr>\n",
       "  </thead>\n",
       "  <tbody>\n",
       "    <tr>\n",
       "      <th>0</th>\n",
       "      <td>Groceries</td>\n",
       "      <td>5000000.0</td>\n",
       "      <td>5000000.0</td>\n",
       "    </tr>\n",
       "    <tr>\n",
       "      <th>1</th>\n",
       "      <td>Eating Out</td>\n",
       "      <td>2000000.0</td>\n",
       "      <td>2000000.0</td>\n",
       "    </tr>\n",
       "  </tbody>\n",
       "</table>\n",
       "</div>"
      ],
      "text/plain": [
       "         name    balance   budgeted\n",
       "0   Groceries  5000000.0  5000000.0\n",
       "1  Eating Out  2000000.0  2000000.0"
      ]
     },
     "execution_count": 599,
     "metadata": {},
     "output_type": "execute_result"
    }
   ],
   "source": [
    "json_string = json.loads(json.dumps(account_categories.to_dict()))\n",
    "df_cat4 = pd.json_normalize(json_string[\"data\"][\"category_groups\"][3][\"categories\"])\n",
    "df_cat4 = df_cat4[{\"name\",\"budgeted\",\"balance\"}]\n",
    "df_cat4 = df_cat4[:2]\n",
    "df_cat4"
   ]
  },
  {
   "cell_type": "code",
   "execution_count": 600,
   "id": "6c59caf1-fb31-406b-8694-74dce88bb21e",
   "metadata": {
    "tags": []
   },
   "outputs": [
    {
     "data": {
      "text/html": [
       "<div>\n",
       "<style scoped>\n",
       "    .dataframe tbody tr th:only-of-type {\n",
       "        vertical-align: middle;\n",
       "    }\n",
       "\n",
       "    .dataframe tbody tr th {\n",
       "        vertical-align: top;\n",
       "    }\n",
       "\n",
       "    .dataframe thead th {\n",
       "        text-align: right;\n",
       "    }\n",
       "</style>\n",
       "<table border=\"1\" class=\"dataframe\">\n",
       "  <thead>\n",
       "    <tr style=\"text-align: right;\">\n",
       "      <th></th>\n",
       "      <th>name</th>\n",
       "      <th>balance</th>\n",
       "      <th>budgeted</th>\n",
       "    </tr>\n",
       "  </thead>\n",
       "  <tbody>\n",
       "    <tr>\n",
       "      <th>0</th>\n",
       "      <td>Home Maintenance</td>\n",
       "      <td>100000.0</td>\n",
       "      <td>100000.0</td>\n",
       "    </tr>\n",
       "  </tbody>\n",
       "</table>\n",
       "</div>"
      ],
      "text/plain": [
       "               name   balance  budgeted\n",
       "0  Home Maintenance  100000.0  100000.0"
      ]
     },
     "execution_count": 600,
     "metadata": {},
     "output_type": "execute_result"
    }
   ],
   "source": [
    "json_string = json.loads(json.dumps(account_categories.to_dict()))\n",
    "df_cat5 = pd.json_normalize(json_string[\"data\"][\"category_groups\"][4][\"categories\"])\n",
    "df_cat5 = df_cat5[{\"name\",\"budgeted\",\"balance\"}]\n",
    "df_cat5 = df_cat5[:1]\n",
    "df_cat5"
   ]
  },
  {
   "cell_type": "code",
   "execution_count": 601,
   "id": "f4f2d5cf-5330-485d-b7f4-369a96a8a0bc",
   "metadata": {
    "tags": []
   },
   "outputs": [
    {
     "data": {
      "text/html": [
       "<div>\n",
       "<style scoped>\n",
       "    .dataframe tbody tr th:only-of-type {\n",
       "        vertical-align: middle;\n",
       "    }\n",
       "\n",
       "    .dataframe tbody tr th {\n",
       "        vertical-align: top;\n",
       "    }\n",
       "\n",
       "    .dataframe thead th {\n",
       "        text-align: right;\n",
       "    }\n",
       "</style>\n",
       "<table border=\"1\" class=\"dataframe\">\n",
       "  <thead>\n",
       "    <tr style=\"text-align: right;\">\n",
       "      <th></th>\n",
       "      <th>name</th>\n",
       "      <th>balance</th>\n",
       "      <th>budgeted</th>\n",
       "    </tr>\n",
       "  </thead>\n",
       "  <tbody>\n",
       "    <tr>\n",
       "      <th>0</th>\n",
       "      <td>Vacation</td>\n",
       "      <td>5000000.0</td>\n",
       "      <td>5000000.0</td>\n",
       "    </tr>\n",
       "  </tbody>\n",
       "</table>\n",
       "</div>"
      ],
      "text/plain": [
       "       name    balance   budgeted\n",
       "0  Vacation  5000000.0  5000000.0"
      ]
     },
     "execution_count": 601,
     "metadata": {},
     "output_type": "execute_result"
    }
   ],
   "source": [
    "json_string = json.loads(json.dumps(account_categories.to_dict()))\n",
    "df_cat6 = pd.json_normalize(json_string[\"data\"][\"category_groups\"][5][\"categories\"])\n",
    "df_cat6 = df_cat6[{\"name\",\"budgeted\",\"balance\"}]\n",
    "df_cat6 = df_cat6[:1]\n",
    "df_cat6"
   ]
  },
  {
   "cell_type": "code",
   "execution_count": 602,
   "id": "49eafeff-958e-498b-a5a4-178cb8d9d52d",
   "metadata": {
    "tags": []
   },
   "outputs": [
    {
     "data": {
      "text/html": [
       "<div>\n",
       "<style scoped>\n",
       "    .dataframe tbody tr th:only-of-type {\n",
       "        vertical-align: middle;\n",
       "    }\n",
       "\n",
       "    .dataframe tbody tr th {\n",
       "        vertical-align: top;\n",
       "    }\n",
       "\n",
       "    .dataframe thead th {\n",
       "        text-align: right;\n",
       "    }\n",
       "</style>\n",
       "<table border=\"1\" class=\"dataframe\">\n",
       "  <thead>\n",
       "    <tr style=\"text-align: right;\">\n",
       "      <th></th>\n",
       "      <th>name</th>\n",
       "      <th>balance</th>\n",
       "      <th>budgeted</th>\n",
       "    </tr>\n",
       "  </thead>\n",
       "  <tbody>\n",
       "    <tr>\n",
       "      <th>0</th>\n",
       "      <td>Hobbies</td>\n",
       "      <td>2500000.0</td>\n",
       "      <td>2500000.0</td>\n",
       "    </tr>\n",
       "    <tr>\n",
       "      <th>1</th>\n",
       "      <td>Entertainment</td>\n",
       "      <td>189000.0</td>\n",
       "      <td>189000.0</td>\n",
       "    </tr>\n",
       "    <tr>\n",
       "      <th>2</th>\n",
       "      <td>Health &amp; Wellness</td>\n",
       "      <td>399000.0</td>\n",
       "      <td>399000.0</td>\n",
       "    </tr>\n",
       "  </tbody>\n",
       "</table>\n",
       "</div>"
      ],
      "text/plain": [
       "                name    balance   budgeted\n",
       "0            Hobbies  2500000.0  2500000.0\n",
       "1      Entertainment   189000.0   189000.0\n",
       "2  Health & Wellness   399000.0   399000.0"
      ]
     },
     "execution_count": 602,
     "metadata": {},
     "output_type": "execute_result"
    }
   ],
   "source": [
    "json_string = json.loads(json.dumps(account_categories.to_dict()))\n",
    "df_cat7 = pd.json_normalize(json_string[\"data\"][\"category_groups\"][6][\"categories\"])\n",
    "df_cat7 = df_cat7[{\"name\",\"budgeted\",\"balance\"}]\n",
    "df_cat7"
   ]
  },
  {
   "cell_type": "code",
   "execution_count": 603,
   "id": "fcee5f85-04b3-4e76-a314-310f37808f1f",
   "metadata": {
    "tags": []
   },
   "outputs": [],
   "source": [
    "df_final = df_cat2.append(df_cat3).append(df_cat4).append(df_cat5).append(df_cat6).append(df_cat7)\n",
    "df_final[\"balance\"] = 0.001 * df_final[\"balance\"] \n",
    "df_final[\"budgeted\"] = 0.001 * df_final[\"budgeted\"] \n",
    "df_final.reset_index()\n",
    "df_final = df_final.set_index('name')\n",
    "df_final= df_final.append(df_final.sum(numeric_only=True).rename('Total'))"
   ]
  },
  {
   "cell_type": "code",
   "execution_count": 604,
   "id": "4d44bfbd-6171-4bbc-a7fa-e16e58c3f4fd",
   "metadata": {
    "tags": []
   },
   "outputs": [
    {
     "data": {
      "text/html": [
       "<div>\n",
       "<style scoped>\n",
       "    .dataframe tbody tr th:only-of-type {\n",
       "        vertical-align: middle;\n",
       "    }\n",
       "\n",
       "    .dataframe tbody tr th {\n",
       "        vertical-align: top;\n",
       "    }\n",
       "\n",
       "    .dataframe thead th {\n",
       "        text-align: right;\n",
       "    }\n",
       "</style>\n",
       "<table border=\"1\" class=\"dataframe\">\n",
       "  <thead>\n",
       "    <tr style=\"text-align: right;\">\n",
       "      <th></th>\n",
       "      <th>balance</th>\n",
       "      <th>budgeted</th>\n",
       "    </tr>\n",
       "    <tr>\n",
       "      <th>name</th>\n",
       "      <th></th>\n",
       "      <th></th>\n",
       "    </tr>\n",
       "  </thead>\n",
       "  <tbody>\n",
       "    <tr>\n",
       "      <th>DtavoCreditCard</th>\n",
       "      <td>4000.0</td>\n",
       "      <td>4000.0</td>\n",
       "    </tr>\n",
       "    <tr>\n",
       "      <th>Car</th>\n",
       "      <td>5000.0</td>\n",
       "      <td>5000.0</td>\n",
       "    </tr>\n",
       "    <tr>\n",
       "      <th>Rent/Mortgage</th>\n",
       "      <td>5300.0</td>\n",
       "      <td>5300.0</td>\n",
       "    </tr>\n",
       "    <tr>\n",
       "      <th>Electric</th>\n",
       "      <td>100.0</td>\n",
       "      <td>100.0</td>\n",
       "    </tr>\n",
       "    <tr>\n",
       "      <th>Water</th>\n",
       "      <td>150.0</td>\n",
       "      <td>150.0</td>\n",
       "    </tr>\n",
       "    <tr>\n",
       "      <th>Internet</th>\n",
       "      <td>450.0</td>\n",
       "      <td>450.0</td>\n",
       "    </tr>\n",
       "    <tr>\n",
       "      <th>Cellphone</th>\n",
       "      <td>500.0</td>\n",
       "      <td>500.0</td>\n",
       "    </tr>\n",
       "    <tr>\n",
       "      <th>Groceries</th>\n",
       "      <td>5000.0</td>\n",
       "      <td>5000.0</td>\n",
       "    </tr>\n",
       "    <tr>\n",
       "      <th>Eating Out</th>\n",
       "      <td>2000.0</td>\n",
       "      <td>2000.0</td>\n",
       "    </tr>\n",
       "    <tr>\n",
       "      <th>Home Maintenance</th>\n",
       "      <td>100.0</td>\n",
       "      <td>100.0</td>\n",
       "    </tr>\n",
       "    <tr>\n",
       "      <th>Vacation</th>\n",
       "      <td>5000.0</td>\n",
       "      <td>5000.0</td>\n",
       "    </tr>\n",
       "    <tr>\n",
       "      <th>Hobbies</th>\n",
       "      <td>2500.0</td>\n",
       "      <td>2500.0</td>\n",
       "    </tr>\n",
       "    <tr>\n",
       "      <th>Entertainment</th>\n",
       "      <td>189.0</td>\n",
       "      <td>189.0</td>\n",
       "    </tr>\n",
       "    <tr>\n",
       "      <th>Health &amp; Wellness</th>\n",
       "      <td>399.0</td>\n",
       "      <td>399.0</td>\n",
       "    </tr>\n",
       "    <tr>\n",
       "      <th>Total</th>\n",
       "      <td>30688.0</td>\n",
       "      <td>30688.0</td>\n",
       "    </tr>\n",
       "  </tbody>\n",
       "</table>\n",
       "</div>"
      ],
      "text/plain": [
       "                   balance  budgeted\n",
       "name                                \n",
       "DtavoCreditCard     4000.0    4000.0\n",
       "Car                 5000.0    5000.0\n",
       "Rent/Mortgage       5300.0    5300.0\n",
       "Electric             100.0     100.0\n",
       "Water                150.0     150.0\n",
       "Internet             450.0     450.0\n",
       "Cellphone            500.0     500.0\n",
       "Groceries           5000.0    5000.0\n",
       "Eating Out          2000.0    2000.0\n",
       "Home Maintenance     100.0     100.0\n",
       "Vacation            5000.0    5000.0\n",
       "Hobbies             2500.0    2500.0\n",
       "Entertainment        189.0     189.0\n",
       "Health & Wellness    399.0     399.0\n",
       "Total              30688.0   30688.0"
      ]
     },
     "execution_count": 604,
     "metadata": {},
     "output_type": "execute_result"
    }
   ],
   "source": [
    "df_final"
   ]
  },
  {
   "cell_type": "code",
   "execution_count": 605,
   "id": "cef06926-4b7d-4b51-a25c-e989c588b759",
   "metadata": {},
   "outputs": [
    {
     "data": {
      "text/html": [
       "<div>\n",
       "<style scoped>\n",
       "    .dataframe tbody tr th:only-of-type {\n",
       "        vertical-align: middle;\n",
       "    }\n",
       "\n",
       "    .dataframe tbody tr th {\n",
       "        vertical-align: top;\n",
       "    }\n",
       "\n",
       "    .dataframe thead th {\n",
       "        text-align: right;\n",
       "    }\n",
       "</style>\n",
       "<table border=\"1\" class=\"dataframe\">\n",
       "  <thead>\n",
       "    <tr style=\"text-align: right;\">\n",
       "      <th></th>\n",
       "      <th>data.account.type</th>\n",
       "      <th>data.account.uncleared_balance</th>\n",
       "      <th>data.account.balance</th>\n",
       "      <th>data.account.cleared_balance</th>\n",
       "    </tr>\n",
       "    <tr>\n",
       "      <th>data.account.name</th>\n",
       "      <th></th>\n",
       "      <th></th>\n",
       "      <th></th>\n",
       "      <th></th>\n",
       "    </tr>\n",
       "  </thead>\n",
       "  <tbody>\n",
       "    <tr>\n",
       "      <th>DtavoCash</th>\n",
       "      <td>savings</td>\n",
       "      <td>0.0</td>\n",
       "      <td>5000.0</td>\n",
       "      <td>5000.0</td>\n",
       "    </tr>\n",
       "    <tr>\n",
       "      <th>DtavoCreditCard</th>\n",
       "      <td>creditCard</td>\n",
       "      <td>0.0</td>\n",
       "      <td>-20000.0</td>\n",
       "      <td>-20000.0</td>\n",
       "    </tr>\n",
       "    <tr>\n",
       "      <th>DtavoChecking</th>\n",
       "      <td>checking</td>\n",
       "      <td>0.0</td>\n",
       "      <td>30000.0</td>\n",
       "      <td>30000.0</td>\n",
       "    </tr>\n",
       "    <tr>\n",
       "      <th>Total</th>\n",
       "      <td></td>\n",
       "      <td>0.0</td>\n",
       "      <td>15000.0</td>\n",
       "      <td>15000.0</td>\n",
       "    </tr>\n",
       "  </tbody>\n",
       "</table>\n",
       "</div>"
      ],
      "text/plain": [
       "                  data.account.type  data.account.uncleared_balance  \\\n",
       "data.account.name                                                     \n",
       "DtavoCash                   savings                             0.0   \n",
       "DtavoCreditCard          creditCard                             0.0   \n",
       "DtavoChecking              checking                             0.0   \n",
       "Total                                                           0.0   \n",
       "\n",
       "                   data.account.balance  data.account.cleared_balance  \n",
       "data.account.name                                                      \n",
       "DtavoCash                        5000.0                        5000.0  \n",
       "DtavoCreditCard                -20000.0                      -20000.0  \n",
       "DtavoChecking                   30000.0                       30000.0  \n",
       "Total                           15000.0                       15000.0  "
      ]
     },
     "execution_count": 605,
     "metadata": {},
     "output_type": "execute_result"
    }
   ],
   "source": [
    "Final_df"
   ]
  }
 ],
 "metadata": {
  "kernelspec": {
   "display_name": "Python 3 (ipykernel)",
   "language": "python",
   "name": "python3"
  },
  "language_info": {
   "codemirror_mode": {
    "name": "ipython",
    "version": 3
   },
   "file_extension": ".py",
   "mimetype": "text/x-python",
   "name": "python",
   "nbconvert_exporter": "python",
   "pygments_lexer": "ipython3",
   "version": "3.9.7"
  }
 },
 "nbformat": 4,
 "nbformat_minor": 5
}

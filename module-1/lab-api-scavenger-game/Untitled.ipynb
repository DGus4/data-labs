{
 "cells": [
  {
   "cell_type": "code",
   "execution_count": 34,
   "id": "dcd9cdc7-3d4f-45bd-8373-4022c9b91bed",
   "metadata": {},
   "outputs": [],
   "source": [
    "def Xbonacci(signature,n):\n",
    "    xbon = list(signature)\n",
    "    if len(xbon) == 2:\n",
    "        for i in range(n):\n",
    "               xbon.append(xbon[-1] + xbon[-2])\n",
    "        return xbon[:10]\n",
    "    else:\n",
    "        for i in range(n):\n",
    "               xbon.append(sum(xbon))        \n",
    "        return xbon[:10]"
   ]
  },
  {
   "cell_type": "code",
   "execution_count": 35,
   "id": "432b2671-f81c-4304-a6b7-943014e6d505",
   "metadata": {},
   "outputs": [
    {
     "data": {
      "text/plain": [
       "[1, 0, 0, 0, 0, 0, 1, 2, 4, 8]"
      ]
     },
     "execution_count": 35,
     "metadata": {},
     "output_type": "execute_result"
    }
   ],
   "source": [
    "Xbonacci([1,0,0,0,0,0,1],10)"
   ]
  },
  {
   "cell_type": "code",
   "execution_count": 3,
   "id": "e51b1e5a-0f0e-455e-a643-5cedbe600f70",
   "metadata": {},
   "outputs": [
    {
     "ename": "NameError",
     "evalue": "name 'fib' is not defined",
     "output_type": "error",
     "traceback": [
      "\u001b[1;31m---------------------------------------------------------------------------\u001b[0m",
      "\u001b[1;31mNameError\u001b[0m                                 Traceback (most recent call last)",
      "\u001b[1;32m~\\AppData\\Local\\Temp/ipykernel_10876/321098074.py\u001b[0m in \u001b[0;36m<module>\u001b[1;34m\u001b[0m\n\u001b[1;32m----> 1\u001b[1;33m \u001b[0mfib\u001b[0m\u001b[1;33m\u001b[0m\u001b[1;33m\u001b[0m\u001b[0m\n\u001b[0m",
      "\u001b[1;31mNameError\u001b[0m: name 'fib' is not defined"
     ]
    }
   ],
   "source": []
  }
 ],
 "metadata": {
  "kernelspec": {
   "display_name": "Python 3 (ipykernel)",
   "language": "python",
   "name": "python3"
  },
  "language_info": {
   "codemirror_mode": {
    "name": "ipython",
    "version": 3
   },
   "file_extension": ".py",
   "mimetype": "text/x-python",
   "name": "python",
   "nbconvert_exporter": "python",
   "pygments_lexer": "ipython3",
   "version": "3.9.7"
  }
 },
 "nbformat": 4,
 "nbformat_minor": 5
}
